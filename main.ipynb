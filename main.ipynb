{
 "cells": [
  {
   "cell_type": "code",
   "execution_count": 1,
   "metadata": {},
   "outputs": [
    {
     "name": "stdout",
     "output_type": "stream",
     "text": [
      "pygame 2.6.1 (SDL 2.28.4, Python 3.10.0)\n",
      "Hello from the pygame community. https://www.pygame.org/contribute.html\n"
     ]
    }
   ],
   "source": [
    "import cv2\n",
    "import mediapipe as mp\n",
    "import time\n",
    "import pygame\n",
    "from scipy.spatial import distance as dist\n"
   ]
  },
  {
   "cell_type": "code",
   "execution_count": 2,
   "metadata": {},
   "outputs": [
    {
     "name": "stderr",
     "output_type": "stream",
     "text": [
      "c:\\Users\\Admin\\AppData\\Local\\Programs\\Python\\Python310\\lib\\site-packages\\google\\protobuf\\symbol_database.py:55: UserWarning: SymbolDatabase.GetPrototype() is deprecated. Please use message_factory.GetMessageClass() instead. SymbolDatabase.GetPrototype() will be removed soon.\n",
      "  warnings.warn('SymbolDatabase.GetPrototype() is deprecated. Please '\n"
     ]
    }
   ],
   "source": [
    "import cv2\n",
    "import mediapipe as mp\n",
    "import time\n",
    "import pygame\n",
    "from scipy.spatial import distance as dist\n",
    "\n",
    "# Initialize mediapipe Face Mesh\n",
    "mp_face_mesh = mp.solutions.face_mesh\n",
    "face_mesh = mp_face_mesh.FaceMesh(static_image_mode=False, max_num_faces=1, min_detection_confidence=0.5)\n",
    "\n",
    "# Initialize Pygame for the alert sound\n",
    "pygame.mixer.init()\n",
    "pygame.mixer.music.load(\"alert.wav\")  # Ensure you have an 'alert.wav' sound file\n",
    "\n",
    "# Eye landmarks for EAR calculations\n",
    "LEFT_EYE = [362, 385, 387, 263, 373, 380]\n",
    "RIGHT_EYE = [33, 160, 158, 133, 153, 144]\n",
    "\n",
    "# Thresholds and counters\n",
    "EAR_THRESHOLD = 0.2\n",
    "CLOSED_EYE_DURATION_THRESHOLD = 1  # Seconds\n",
    "\n",
    "# Initialize variables\n",
    "blink_count = 0\n",
    "start_drowsy_time = None\n",
    "is_drowsy = False\n",
    "\n",
    "# Function to calculate Eye Aspect Ratio (EAR)\n",
    "def calculate_ear(eye_landmarks):\n",
    "    vertical_1 = dist.euclidean(eye_landmarks[1], eye_landmarks[5])\n",
    "    vertical_2 = dist.euclidean(eye_landmarks[2], eye_landmarks[4])\n",
    "    horizontal = dist.euclidean(eye_landmarks[0], eye_landmarks[3])\n",
    "    ear = (vertical_1 + vertical_2) / (2.0 * horizontal)\n",
    "    return ear\n",
    "\n",
    "# Start capturing video\n",
    "cap = cv2.VideoCapture(0)\n",
    "\n",
    "while cap.isOpened():\n",
    "    success, frame = cap.read()\n",
    "    if not success:\n",
    "        print(\"Failed to capture image\")\n",
    "        break\n",
    "    \n",
    "    # Convert the BGR frame to RGB before processing\n",
    "    rgb_frame = cv2.cvtColor(frame, cv2.COLOR_BGR2RGB)\n",
    "    \n",
    "    # Get the face landmarks\n",
    "    results = face_mesh.process(rgb_frame)\n",
    "    \n",
    "    if results.multi_face_landmarks:\n",
    "        for face_landmarks in results.multi_face_landmarks:\n",
    "            # Extract eye landmarks\n",
    "            left_eye = [(face_landmarks.landmark[i].x * frame.shape[1], face_landmarks.landmark[i].y * frame.shape[0]) for i in LEFT_EYE]\n",
    "            right_eye = [(face_landmarks.landmark[i].x * frame.shape[1], face_landmarks.landmark[i].y * frame.shape[0]) for i in RIGHT_EYE]\n",
    "\n",
    "            # Calculate EAR for both eyes\n",
    "            left_ear = calculate_ear(left_eye)\n",
    "            right_ear = calculate_ear(right_eye)\n",
    "            avg_ear = (left_ear + right_ear) / 2.0\n",
    "\n",
    "            # Blink detection based on EAR\n",
    "            if avg_ear < EAR_THRESHOLD:\n",
    "                if start_drowsy_time is None:\n",
    "                    start_drowsy_time = time.time()\n",
    "                elif time.time() - start_drowsy_time >= CLOSED_EYE_DURATION_THRESHOLD:\n",
    "                    # Trigger alert if eyes are closed for a prolonged duration\n",
    "                    if not is_drowsy:\n",
    "                        pygame.mixer.music.play(-1)  # Loop the alert sound\n",
    "                        is_drowsy = True\n",
    "                    cv2.putText(frame, \"DROWSY! Wake up!\", (50, 100), cv2.FONT_HERSHEY_SIMPLEX, 1.5, (0, 0, 255), 3)\n",
    "            else:\n",
    "                if start_drowsy_time is not None:\n",
    "                    blink_count += 1\n",
    "                start_drowsy_time = None\n",
    "                if is_drowsy:\n",
    "                    pygame.mixer.music.stop()  # Stop the alert sound\n",
    "                    is_drowsy = False\n",
    "\n",
    "            # Display blink count on the screen\n",
    "            cv2.putText(frame, f\"Blinks: {blink_count}\", (10, 30), cv2.FONT_HERSHEY_SIMPLEX, 0.7, (0, 255, 0), 2)\n",
    "\n",
    "            # Draw eye landmarks for visualization\n",
    "            for point in left_eye + right_eye:\n",
    "                cv2.circle(frame, (int(point[0]), int(point[1])), 2, (0, 255, 0), -1)\n",
    "    \n",
    "    # Display the frame\n",
    "    cv2.imshow('Drowsiness Detection', frame)\n",
    "    \n",
    "    if cv2.waitKey(1) & 0xFF == ord('q'):\n",
    "        break\n",
    "\n",
    "cap.release()\n",
    "cv2.destroyAllWindows()\n",
    "pygame.quit()\n"
   ]
  }
 ],
 "metadata": {
  "kernelspec": {
   "display_name": "Python 3",
   "language": "python",
   "name": "python3"
  },
  "language_info": {
   "codemirror_mode": {
    "name": "ipython",
    "version": 3
   },
   "file_extension": ".py",
   "mimetype": "text/x-python",
   "name": "python",
   "nbconvert_exporter": "python",
   "pygments_lexer": "ipython3",
   "version": "3.10.0"
  }
 },
 "nbformat": 4,
 "nbformat_minor": 2
}
